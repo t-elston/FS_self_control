{
 "cells": [
  {
   "cell_type": "code",
   "execution_count": 1,
   "metadata": {},
   "outputs": [
    {
     "data": {
      "text/plain": [
       "<module 'self_control_preprocessing_functions' from 'c:\\\\Users\\\\Thomas Elston\\\\Documents\\\\PYTHON\\\\self_control\\\\preprocessing\\\\self_control_preprocessing_functions.py'>"
      ]
     },
     "execution_count": 1,
     "metadata": {},
     "output_type": "execute_result"
    }
   ],
   "source": [
    "import self_control_preprocessing_functions as prep\n",
    "from pathlib import Path\n",
    "import importlib\n",
    "importlib.reload(prep)"
   ]
  },
  {
   "cell_type": "code",
   "execution_count": null,
   "metadata": {},
   "outputs": [],
   "source": [
    "# path to high level folder containing all raw data for this recording\n",
    "base_folder = 'F:/3 state self control/Don/D20231214_Rec04_g0/' # highest level folder for this recording\n",
    "\n",
    "# where is the NPX channel map stored?\n",
    "chan_map = 'C:/Users/Thomas Elston/Documents/PYTHON/Neuropixel_spike_sorting/NHP_NPX_chanmap.csv'\n",
    "\n",
    "# where do we want the final data for this run to save?\n",
    "save_dir = 'C:/Users/Thomas Elston/Documents/PYTHON/self_control/reprocessed_data/'\n"
   ]
  },
  {
   "cell_type": "code",
   "execution_count": 3,
   "metadata": {},
   "outputs": [
    {
     "name": "stdout",
     "output_type": "stream",
     "text": [
      "Extracting trial-by-trial response and eye data.\n",
      "F:/3 state self control/King/K20240625_Rec03_g0//K20240625_bhv.csv\n",
      "Saved data as .csv in original directory.\n"
     ]
    }
   ],
   "source": [
    "# now extract the behavior associated with this recording\n",
    "prep.extract_behavior_from_h5(base_folder)"
   ]
  },
  {
   "cell_type": "code",
   "execution_count": 4,
   "metadata": {},
   "outputs": [
    {
     "name": "stdout",
     "output_type": "stream",
     "text": [
      "807 putative units found in CdN\n"
     ]
    },
    {
     "name": "stderr",
     "output_type": "stream",
     "text": [
      "807it [00:44, 18.32it/s]\n"
     ]
    },
    {
     "name": "stdout",
     "output_type": "stream",
     "text": [
      "saving 283 units\n",
      "Loading LFP from CdN...\n",
      "Chopping LFP into trials...\n",
      "Data saved for this file. \n",
      "\n",
      "340 putative units found in OFC\n"
     ]
    },
    {
     "name": "stderr",
     "output_type": "stream",
     "text": [
      "340it [00:14, 22.97it/s]\n"
     ]
    },
    {
     "name": "stdout",
     "output_type": "stream",
     "text": [
      "saving 118 units\n",
      "Loading LFP from OFC...\n",
      "Chopping LFP into trials...\n",
      "Data saved for this file. \n",
      "\n"
     ]
    }
   ],
   "source": [
    "# now run extract the spikes and save everything\n",
    "params = {}\n",
    "params['t_offset'] = 1025\n",
    "params['lfp_offset'] = 1500\n",
    "params['step_size'] = 25\n",
    "params['win_size'] = 100\n",
    "params['align_event'] = 40\n",
    "\n",
    "prep.make_spike_and_LFP_tables_and_combine_data(base_folder, save_dir, chan_map, params, ks_version=4)"
   ]
  }
 ],
 "metadata": {
  "kernelspec": {
   "display_name": "base",
   "language": "python",
   "name": "python3"
  },
  "language_info": {
   "codemirror_mode": {
    "name": "ipython",
    "version": 3
   },
   "file_extension": ".py",
   "mimetype": "text/x-python",
   "name": "python",
   "nbconvert_exporter": "python",
   "pygments_lexer": "ipython3",
   "version": "3.11.5"
  }
 },
 "nbformat": 4,
 "nbformat_minor": 2
}
