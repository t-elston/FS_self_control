{
 "cells": [
  {
   "cell_type": "code",
   "execution_count": 1,
   "metadata": {},
   "outputs": [
    {
     "data": {
      "text/plain": [
       "<module 'self_control_preprocessing_functions' from 'c:\\\\Users\\\\Thomas Elston\\\\Documents\\\\PYTHON\\\\self_control\\\\preprocessing\\\\self_control_preprocessing_functions.py'>"
      ]
     },
     "execution_count": 1,
     "metadata": {},
     "output_type": "execute_result"
    }
   ],
   "source": [
    "import neuropixel_preprocessing_module as npm\n",
    "import self_control_preprocessing_functions as prep\n",
    "from pathlib import Path\n",
    "import importlib\n",
    "importlib.reload(prep)"
   ]
  },
  {
   "cell_type": "code",
   "execution_count": 2,
   "metadata": {},
   "outputs": [
    {
     "ename": "SyntaxError",
     "evalue": "(unicode error) 'unicodeescape' codec can't decode bytes in position 2-3: truncated \\UXXXXXXXX escape (3981637758.py, line 21)",
     "output_type": "error",
     "traceback": [
      "\u001b[1;36m  Cell \u001b[1;32mIn[2], line 21\u001b[1;36m\u001b[0m\n\u001b[1;33m    save_dir = 'C:\\Users\\Thomas Elston\\Documents\\PYTHON\\self_control\\data_for_analysis/'\u001b[0m\n\u001b[1;37m                                                                                        ^\u001b[0m\n\u001b[1;31mSyntaxError\u001b[0m\u001b[1;31m:\u001b[0m (unicode error) 'unicodeescape' codec can't decode bytes in position 2-3: truncated \\UXXXXXXXX escape\n"
     ]
    }
   ],
   "source": [
    "# specify the relevant .bin files for this recording - the corresponding .meta files must be in the same folder!\n",
    "raw_files = ['D:\\D20231121_Rec01_g0\\D20231121_Rec01_g0_imec0\\D20231121_Rec01_g0_t0.imec0.lf.bin',\n",
    "             'D:\\D20231121_Rec01_g0\\D20231121_Rec01_g0_imec1\\D20231121_Rec01_g0_t0.imec1.lf.bin',\n",
    "             'D:\\D20231121_Rec01_g0\\D20231121_Rec01_g0_t0.nidq.bin']\n",
    "\n",
    "# specify the nidaq file for event code extraction\n",
    "nidq_file = 'D:\\D20231121_Rec01_g0\\D20231121_Rec01_g0_t0.nidq.bin'\n",
    "\n",
    "# get the directories containing each of the above files\n",
    "raw_dirs = [str(Path(file).parent) for file in raw_files]\n",
    "\n",
    "top_parent_dir = str(Path(raw_dirs[0]).parent)\n",
    "\n",
    "# what kind of data is in each folder\n",
    "data_stream_info = ['probe0', 'probe1', 'nidaq']\n",
    "\n",
    "# which of these streams do we want to use as the \"master clock\" to map data into?\n",
    "reference_stream = 0\n",
    "\n",
    "# where do we want the final data for this run to save?\n",
    "save_dir = 'C:/Users/Thomas Elston/Documents/PYTHON/self_control/data_for_analysis/'"
   ]
  },
  {
   "cell_type": "code",
   "execution_count": null,
   "metadata": {},
   "outputs": [],
   "source": [
    "# extract the sync edges and event codes - saves results into same directory as raw_files\n",
    "npm.extract_sync_edges_and_events(raw_files, nidq_file)"
   ]
  },
  {
   "cell_type": "code",
   "execution_count": null,
   "metadata": {},
   "outputs": [],
   "source": [
    "npm.align_data_streams(raw_dirs, data_stream_info, reference_stream)"
   ]
  },
  {
   "cell_type": "code",
   "execution_count": null,
   "metadata": {},
   "outputs": [],
   "source": [
    "# now extract the behavior associated with this recording\n",
    "prep.extract_behavior_from_h5(top_parent_dir)"
   ]
  },
  {
   "cell_type": "code",
   "execution_count": null,
   "metadata": {},
   "outputs": [],
   "source": [
    "# now run extract the spikes and save everything\n",
    "spike_params = {}\n",
    "spike_params['t_offset'] = 1000\n",
    "spike_params['step_size'] = 25\n",
    "spike_params['win_size'] = 100\n",
    "spike_params['align_event'] = 40\n",
    "\n",
    "prep.make_spike_tables_and_combine_data(top_parent_dir, save_dir, spike_params)"
   ]
  },
  {
   "cell_type": "code",
   "execution_count": null,
   "metadata": {},
   "outputs": [],
   "source": [
    "task_events = np.load(top_parent_dir + '/sync_event_codes.npy')"
   ]
  }
 ],
 "metadata": {
  "kernelspec": {
   "display_name": "base",
   "language": "python",
   "name": "python3"
  },
  "language_info": {
   "codemirror_mode": {
    "name": "ipython",
    "version": 3
   },
   "file_extension": ".py",
   "mimetype": "text/x-python",
   "name": "python",
   "nbconvert_exporter": "python",
   "pygments_lexer": "ipython3",
   "version": "3.11.5"
  }
 },
 "nbformat": 4,
 "nbformat_minor": 2
}
