{
 "cells": [
  {
   "cell_type": "markdown",
   "metadata": {},
   "source": [
    "# Behavioral Analysis\n",
    "## - evidence of conflicting value maps in States A and B but not C"
   ]
  },
  {
   "cell_type": "code",
   "execution_count": 1,
   "metadata": {},
   "outputs": [],
   "source": [
    "import h5_utilities_module as h5u\n",
    "import numpy as np\n",
    "import pandas as pd\n",
    "import pingouin as pg\n",
    "from tqdm import tqdm\n",
    "from matplotlib import pyplot as plt"
   ]
  },
  {
   "cell_type": "code",
   "execution_count": 2,
   "metadata": {},
   "outputs": [],
   "source": [
    "# define the directory where the files live\n",
    "data_dir = '/Users/thomaselston/Documents/PYTHON/self_control/raw_data/'\n",
    "data_files = h5u.find_h5_files(data_dir)\n"
   ]
  },
  {
   "cell_type": "code",
   "execution_count": 3,
   "metadata": {},
   "outputs": [],
   "source": [
    "# functions!\n",
    "def calculate_mean_and_interval(data, type='sem', num_samples=1000, alpha=0.05):\n",
    "    \"\"\"\n",
    "    Calculate mean and either SEM or bootstrapped CI for each column of the input array, disregarding NaN values.\n",
    "\n",
    "    Parameters:\n",
    "    - data: 2D numpy array\n",
    "    - type: str, either 'sem' or 'bootstrap_ci'\n",
    "    - num_samples: int, number of bootstrap samples (applicable only for type='bootstrap_ci')\n",
    "    - alpha: float, significance level for the confidence interval (applicable only for type='bootstrap_ci')\n",
    "\n",
    "    Returns:\n",
    "    - means: 1D numpy array containing means for each column\n",
    "    - interval: 1D numpy array containing SEMs or bootstrapped CIs for each column\n",
    "    \"\"\"\n",
    "    nan_mask = ~np.isnan(data)\n",
    "    \n",
    "    nanmean_result = np.nanmean(data, axis=0)\n",
    "    n_valid_values = np.sum(nan_mask, axis=0)\n",
    "    \n",
    "    if type == 'sem':\n",
    "        nanstd_result = np.nanstd(data, axis=0)\n",
    "        interval = nanstd_result / np.sqrt(n_valid_values)\n",
    "        \n",
    "    elif type == 'percentile':\n",
    "        interval = np.mean(np.array([np.abs(nanmean_result - np.nanpercentile (data, 5, axis=0)), np.abs(nanmean_result - np.nanpercentile (data, 95, axis=0))]))\n",
    "        \n",
    "        \n",
    "    elif type == 'bootstrap':\n",
    "        n_rows, n_cols = data.shape\n",
    "        alpha = alpha/2\n",
    "\n",
    "        # Initialize array to store bootstrap means\n",
    "        \n",
    "        bootstrap_means = np.zeros((num_samples, n_cols))\n",
    "\n",
    "        # Perform bootstrap resampling for each column\n",
    "        for col in range(n_cols):\n",
    "            bootstrap_samples = np.random.choice(data[:, col][nan_mask[:, col]], size=(num_samples, n_rows), replace=True)\n",
    "            bootstrap_means[:, col] = np.mean(bootstrap_samples, axis=1)\n",
    "\n",
    "        # Calculate confidence interval bounds\n",
    "        ci_lower = np.percentile(bootstrap_means, 100 * (alpha / 2), axis=0)\n",
    "        ci_upper = np.percentile(bootstrap_means, 100 * (1 - alpha / 2), axis=0)\n",
    "        \n",
    "        interval = np.mean([abs(bootstrap_means - ci_lower), abs(bootstrap_means - ci_upper)], axis=0)\n",
    "        \n",
    "        interval = np.mean(interval, axis=0)\n",
    "\n",
    "    else:\n",
    "        raise ValueError(\"Invalid 'type' argument. Use either 'sem' or 'bootstrap'.\")\n",
    "    \n",
    "    return nanmean_result, interval"
   ]
  },
  {
   "cell_type": "code",
   "execution_count": 4,
   "metadata": {},
   "outputs": [
    {
     "name": "stderr",
     "output_type": "stream",
     "text": [
      "100%|██████████| 8/8 [00:00<00:00, 22.16it/s]\n"
     ]
    }
   ],
   "source": [
    "# loop over the files and accumulate the behavioral data\n",
    "\n",
    "# initialize a dataframe\n",
    "bhv = pd.DataFrame()\n",
    "\n",
    "for this_file in tqdm(data_files):\n",
    "    \n",
    "    # pull this file's behavior\n",
    "    f_data = pd.read_hdf(this_file, key='bhv')\n",
    "\n",
    "    # Append the data to the accumulated dataframe\n",
    "    bhv = pd.concat([bhv, f_data], ignore_index=True)"
   ]
  },
  {
   "cell_type": "code",
   "execution_count": 5,
   "metadata": {},
   "outputs": [],
   "source": [
    "# create indices to separately analyze each monkey\n",
    "k_ix = bhv['fname'].str.contains('K')\n",
    "d_ix = bhv['fname'].str.contains('D')"
   ]
  },
  {
   "cell_type": "code",
   "execution_count": 6,
   "metadata": {},
   "outputs": [
    {
     "name": "stdout",
     "output_type": "stream",
     "text": [
      "subject K accuracy: 98.81312543635094\n",
      "subject D accuracy: 97.78645833333334\n"
     ]
    }
   ],
   "source": [
    "# get overall choice accuracies\n",
    "k_acc = bhv['picked_best'].loc[k_ix].mean()\n",
    "d_acc = bhv['picked_best'].loc[d_ix].mean()\n",
    "\n",
    "print('subject K accuracy: ' + str(k_acc*100))\n",
    "print('subject D accuracy: ' + str(d_acc*100))"
   ]
  },
  {
   "cell_type": "code",
   "execution_count": 7,
   "metadata": {},
   "outputs": [
    {
     "name": "stderr",
     "output_type": "stream",
     "text": [
      "/var/folders/cg/r9y7pd9n64q8dlrv539z9yyh0000gn/T/ipykernel_25163/4175741094.py:30: DeprecationWarning: Conversion of an array with ndim > 0 to a scalar is deprecated, and will error in future. Ensure you extract a single element from your array before performing this operation. (Deprecated NumPy 1.25.)\n",
      "  choice_acc_mean[0, v_num, 0], choice_acc_ci[0, v_num, 0] = calculate_mean_and_interval(picked_left[free_ix & v_ix & (bhv['state'] == 1) & k_ix], 'bootstrap')\n",
      "/var/folders/cg/r9y7pd9n64q8dlrv539z9yyh0000gn/T/ipykernel_25163/4175741094.py:31: DeprecationWarning: Conversion of an array with ndim > 0 to a scalar is deprecated, and will error in future. Ensure you extract a single element from your array before performing this operation. (Deprecated NumPy 1.25.)\n",
      "  choice_acc_mean[1, v_num, 0], choice_acc_ci[1, v_num, 0] = calculate_mean_and_interval(picked_left[free_ix & v_ix & (bhv['state'] == 2) & k_ix], 'bootstrap')\n",
      "/var/folders/cg/r9y7pd9n64q8dlrv539z9yyh0000gn/T/ipykernel_25163/4175741094.py:32: DeprecationWarning: Conversion of an array with ndim > 0 to a scalar is deprecated, and will error in future. Ensure you extract a single element from your array before performing this operation. (Deprecated NumPy 1.25.)\n",
      "  choice_acc_mean[2, v_num, 0], choice_acc_ci[2, v_num, 0] = calculate_mean_and_interval(picked_left[free_ix & v_ix & (bhv['state'] == 3) & k_ix], 'bootstrap')\n",
      "/var/folders/cg/r9y7pd9n64q8dlrv539z9yyh0000gn/T/ipykernel_25163/4175741094.py:34: DeprecationWarning: Conversion of an array with ndim > 0 to a scalar is deprecated, and will error in future. Ensure you extract a single element from your array before performing this operation. (Deprecated NumPy 1.25.)\n",
      "  choice_acc_mean[0, v_num, 1], choice_acc_ci[0, v_num, 1] = calculate_mean_and_interval(picked_left[free_ix & v_ix & (bhv['state'] == 1) & d_ix], 'bootstrap')\n",
      "/var/folders/cg/r9y7pd9n64q8dlrv539z9yyh0000gn/T/ipykernel_25163/4175741094.py:35: DeprecationWarning: Conversion of an array with ndim > 0 to a scalar is deprecated, and will error in future. Ensure you extract a single element from your array before performing this operation. (Deprecated NumPy 1.25.)\n",
      "  choice_acc_mean[1, v_num, 1], choice_acc_ci[1, v_num, 1] = calculate_mean_and_interval(picked_left[free_ix & v_ix & (bhv['state'] == 2) & d_ix], 'bootstrap')\n",
      "/var/folders/cg/r9y7pd9n64q8dlrv539z9yyh0000gn/T/ipykernel_25163/4175741094.py:36: DeprecationWarning: Conversion of an array with ndim > 0 to a scalar is deprecated, and will error in future. Ensure you extract a single element from your array before performing this operation. (Deprecated NumPy 1.25.)\n",
      "  choice_acc_mean[2, v_num, 1], choice_acc_ci[2, v_num, 1] = calculate_mean_and_interval(picked_left[free_ix & v_ix & (bhv['state'] == 3) & d_ix], 'bootstrap')\n",
      "/var/folders/cg/r9y7pd9n64q8dlrv539z9yyh0000gn/T/ipykernel_25163/4175741094.py:38: DeprecationWarning: Conversion of an array with ndim > 0 to a scalar is deprecated, and will error in future. Ensure you extract a single element from your array before performing this operation. (Deprecated NumPy 1.25.)\n",
      "  choice_rt_mean[0, v_num, 0], choice_rt_ci[0, v_num, 0] = calculate_mean_and_interval(rt[free_ix & v_ix & (bhv['state'] == 1) & k_ix], 'bootstrap')\n",
      "/var/folders/cg/r9y7pd9n64q8dlrv539z9yyh0000gn/T/ipykernel_25163/4175741094.py:39: DeprecationWarning: Conversion of an array with ndim > 0 to a scalar is deprecated, and will error in future. Ensure you extract a single element from your array before performing this operation. (Deprecated NumPy 1.25.)\n",
      "  choice_rt_mean[1, v_num, 0], choice_rt_ci[1, v_num, 0] = calculate_mean_and_interval(rt[free_ix & v_ix & (bhv['state'] == 2) & k_ix], 'bootstrap')\n",
      "/var/folders/cg/r9y7pd9n64q8dlrv539z9yyh0000gn/T/ipykernel_25163/4175741094.py:40: DeprecationWarning: Conversion of an array with ndim > 0 to a scalar is deprecated, and will error in future. Ensure you extract a single element from your array before performing this operation. (Deprecated NumPy 1.25.)\n",
      "  choice_rt_mean[2, v_num, 0], choice_rt_ci[2, v_num, 0] = calculate_mean_and_interval(rt[free_ix & v_ix & (bhv['state'] == 3) & k_ix], 'bootstrap')\n",
      "/var/folders/cg/r9y7pd9n64q8dlrv539z9yyh0000gn/T/ipykernel_25163/4175741094.py:42: DeprecationWarning: Conversion of an array with ndim > 0 to a scalar is deprecated, and will error in future. Ensure you extract a single element from your array before performing this operation. (Deprecated NumPy 1.25.)\n",
      "  choice_rt_mean[0, v_num, 1], choice_rt_ci[0, v_num, 1] = calculate_mean_and_interval(rt[free_ix & v_ix & (bhv['state'] == 1) & d_ix], 'bootstrap')\n",
      "/var/folders/cg/r9y7pd9n64q8dlrv539z9yyh0000gn/T/ipykernel_25163/4175741094.py:43: DeprecationWarning: Conversion of an array with ndim > 0 to a scalar is deprecated, and will error in future. Ensure you extract a single element from your array before performing this operation. (Deprecated NumPy 1.25.)\n",
      "  choice_rt_mean[1, v_num, 1], choice_rt_ci[1, v_num, 1] = calculate_mean_and_interval(rt[free_ix & v_ix & (bhv['state'] == 2) & d_ix], 'bootstrap')\n",
      "/var/folders/cg/r9y7pd9n64q8dlrv539z9yyh0000gn/T/ipykernel_25163/4175741094.py:44: DeprecationWarning: Conversion of an array with ndim > 0 to a scalar is deprecated, and will error in future. Ensure you extract a single element from your array before performing this operation. (Deprecated NumPy 1.25.)\n",
      "  choice_rt_mean[2, v_num, 1], choice_rt_ci[2, v_num, 1] = calculate_mean_and_interval(rt[free_ix & v_ix & (bhv['state'] == 3) & d_ix], 'bootstrap')\n"
     ]
    }
   ],
   "source": [
    "# find the identities of the value differences\n",
    "val_diff = bhv['l_val'] - bhv['r_val']\n",
    "val_diff_ids = np.unique(val_diff[~np.isnan(val_diff)])\n",
    "# find the trials where the monkey picked the left option\n",
    "\n",
    "picked_left = (bhv['side'] == -1).to_numpy().astype(int).reshape((-1, 1))\n",
    "rt = bhv['rt'].values.reshape((-1,1))\n",
    "n_sacc = bhv['n_sacc'].values.reshape(-1,1)\n",
    "\n",
    "# we're only going to assess the free choices\n",
    "free_ix = bhv['forced'] == 0\n",
    "\n",
    "# initialize arrays to accumulate results into\n",
    "# choice accuracy\n",
    "choice_acc_mean = np.zeros((3, len(val_diff_ids), 2)) # 3 states, n_val_diffs, 2 monkeys\n",
    "choice_acc_ci = np.zeros((3, len(val_diff_ids), 2)) # 3 states, n_val_diffs, 2 monkeys\n",
    "\n",
    "# choice reaction time\n",
    "choice_rt_mean = np.zeros((3, len(val_diff_ids), 2)) # 3 states, n_val_diffs, 2 monkeys\n",
    "choice_rt_ci = np.zeros((3, len(val_diff_ids), 2)) # 3 states, n_val_diffs, 2 monkeys\n",
    "\n",
    "\n",
    "# loop over the val_diff_ids and get the mean for each value difference and state\n",
    "for v_num, v_id in enumerate(val_diff_ids):\n",
    "\n",
    "    # find the trials associated with this value difference\n",
    "    v_ix = val_diff == v_id\n",
    "\n",
    "    # take the means and 95% CIs\n",
    "    choice_acc_mean[0, v_num, 0], choice_acc_ci[0, v_num, 0] = calculate_mean_and_interval(picked_left[free_ix & v_ix & (bhv['state'] == 1) & k_ix], 'bootstrap')\n",
    "    choice_acc_mean[1, v_num, 0], choice_acc_ci[1, v_num, 0] = calculate_mean_and_interval(picked_left[free_ix & v_ix & (bhv['state'] == 2) & k_ix], 'bootstrap')\n",
    "    choice_acc_mean[2, v_num, 0], choice_acc_ci[2, v_num, 0] = calculate_mean_and_interval(picked_left[free_ix & v_ix & (bhv['state'] == 3) & k_ix], 'bootstrap')\n",
    "\n",
    "    choice_acc_mean[0, v_num, 1], choice_acc_ci[0, v_num, 1] = calculate_mean_and_interval(picked_left[free_ix & v_ix & (bhv['state'] == 1) & d_ix], 'bootstrap')\n",
    "    choice_acc_mean[1, v_num, 1], choice_acc_ci[1, v_num, 1] = calculate_mean_and_interval(picked_left[free_ix & v_ix & (bhv['state'] == 2) & d_ix], 'bootstrap')\n",
    "    choice_acc_mean[2, v_num, 1], choice_acc_ci[2, v_num, 1] = calculate_mean_and_interval(picked_left[free_ix & v_ix & (bhv['state'] == 3) & d_ix], 'bootstrap')\n",
    "\n",
    "    choice_rt_mean[0, v_num, 0], choice_rt_ci[0, v_num, 0] = calculate_mean_and_interval(rt[free_ix & v_ix & (bhv['state'] == 1) & k_ix], 'bootstrap')\n",
    "    choice_rt_mean[1, v_num, 0], choice_rt_ci[1, v_num, 0] = calculate_mean_and_interval(rt[free_ix & v_ix & (bhv['state'] == 2) & k_ix], 'bootstrap')\n",
    "    choice_rt_mean[2, v_num, 0], choice_rt_ci[2, v_num, 0] = calculate_mean_and_interval(rt[free_ix & v_ix & (bhv['state'] == 3) & k_ix], 'bootstrap')\n",
    "\n",
    "    choice_rt_mean[0, v_num, 1], choice_rt_ci[0, v_num, 1] = calculate_mean_and_interval(rt[free_ix & v_ix & (bhv['state'] == 1) & d_ix], 'bootstrap')\n",
    "    choice_rt_mean[1, v_num, 1], choice_rt_ci[1, v_num, 1] = calculate_mean_and_interval(rt[free_ix & v_ix & (bhv['state'] == 2) & d_ix], 'bootstrap')\n",
    "    choice_rt_mean[2, v_num, 1], choice_rt_ci[2, v_num, 1] = calculate_mean_and_interval(rt[free_ix & v_ix & (bhv['state'] == 3) & d_ix], 'bootstrap')"
   ]
  },
  {
   "cell_type": "code",
   "execution_count": 8,
   "metadata": {},
   "outputs": [
    {
     "name": "stderr",
     "output_type": "stream",
     "text": [
      "/var/folders/cg/r9y7pd9n64q8dlrv539z9yyh0000gn/T/ipykernel_25163/3500902538.py:13: DeprecationWarning: Conversion of an array with ndim > 0 to a scalar is deprecated, and will error in future. Ensure you extract a single element from your array before performing this operation. (Deprecated NumPy 1.25.)\n",
      "  first_sacc_mean[0,0], first_sacc_ci[0,0] = calculate_mean_and_interval(sacc1_vals[double_take_ix & k_ix & (bhv['state']<3)], 'bootstrap')\n",
      "/var/folders/cg/r9y7pd9n64q8dlrv539z9yyh0000gn/T/ipykernel_25163/3500902538.py:14: DeprecationWarning: Conversion of an array with ndim > 0 to a scalar is deprecated, and will error in future. Ensure you extract a single element from your array before performing this operation. (Deprecated NumPy 1.25.)\n",
      "  first_sacc_mean[1,0], first_sacc_ci[1,0] = calculate_mean_and_interval(sacc1_vals[double_take_ix & k_ix & (bhv['state']==3)], 'bootstrap')\n",
      "/var/folders/cg/r9y7pd9n64q8dlrv539z9yyh0000gn/T/ipykernel_25163/3500902538.py:16: DeprecationWarning: Conversion of an array with ndim > 0 to a scalar is deprecated, and will error in future. Ensure you extract a single element from your array before performing this operation. (Deprecated NumPy 1.25.)\n",
      "  first_sacc_mean[0,1], first_sacc_ci[0,1] = calculate_mean_and_interval(sacc1_vals[double_take_ix & d_ix & (bhv['state']<3)], 'bootstrap')\n",
      "/var/folders/cg/r9y7pd9n64q8dlrv539z9yyh0000gn/T/ipykernel_25163/3500902538.py:17: DeprecationWarning: Conversion of an array with ndim > 0 to a scalar is deprecated, and will error in future. Ensure you extract a single element from your array before performing this operation. (Deprecated NumPy 1.25.)\n",
      "  first_sacc_mean[1,1], first_sacc_ci[1,1] = calculate_mean_and_interval(sacc1_vals[double_take_ix & d_ix & (bhv['state']==3)], 'bootstrap')\n"
     ]
    }
   ],
   "source": [
    "# find the value of the item the animals first saccaded towards on double-take trials\n",
    "double_take_ix = (bhv['n_sacc'] == 2) & free_ix\n",
    "\n",
    "# initialize an array to accumulate results into\n",
    "first_sacc_mean = np.zeros((2, 2)) # 3 states x 2 monkeys\n",
    "first_sacc_ci = np.zeros((2, 2)) # 3 states x 2 monkeys\n",
    "\n",
    "\n",
    "# get the values fixated on double takes\n",
    "sacc1_vals = bhv['sacc1_val'].values.reshape(-1,1)\n",
    "\n",
    "# calculate means and confidence intervals\n",
    "first_sacc_mean[0,0], first_sacc_ci[0,0] = calculate_mean_and_interval(sacc1_vals[double_take_ix & k_ix & (bhv['state']<3)], 'bootstrap')\n",
    "first_sacc_mean[1,0], first_sacc_ci[1,0] = calculate_mean_and_interval(sacc1_vals[double_take_ix & k_ix & (bhv['state']==3)], 'bootstrap')\n",
    "\n",
    "first_sacc_mean[0,1], first_sacc_ci[0,1] = calculate_mean_and_interval(sacc1_vals[double_take_ix & d_ix & (bhv['state']<3)], 'bootstrap')\n",
    "first_sacc_mean[1,1], first_sacc_ci[1,1] = calculate_mean_and_interval(sacc1_vals[double_take_ix & d_ix & (bhv['state']==3)], 'bootstrap')\n"
   ]
  },
  {
   "cell_type": "code",
   "execution_count": 9,
   "metadata": {},
   "outputs": [
    {
     "data": {
      "text/plain": [
       "[<matplotlib.axis.YTick at 0x2a151aab0>,\n",
       " <matplotlib.axis.YTick at 0x2a151ae40>,\n",
       " <matplotlib.axis.YTick at 0x2a151a3f0>]"
      ]
     },
     "execution_count": 9,
     "metadata": {},
     "output_type": "execute_result"
    },
    {
     "data": {
      "image/png": "[encoded data removed]",
      "text/plain": [
       "<Figure size 800x1000 with 4 Axes>"
      ]
     },
     "metadata": {},
     "output_type": "display_data"
    }
   ],
   "source": [
    "# now let's plot\n",
    "\n",
    "fig, ax = plt.subplots(2, 2, figsize=(8,10))\n",
    "# Adjust space between subplots\n",
    "fig.subplots_adjust(wspace=0.3, hspace=.3)  # add some white space between the plots\n",
    "\n",
    "# define bins for the histogram\n",
    "bins = np.arange(50, 550, 10)\n",
    "x_vals = [0,1]\n",
    "\n",
    "# plot King's data\n",
    "\n",
    "# choice RT histograms\n",
    "ax[0,0].hist(bhv['rt'].loc[k_ix & (bhv['state'] <3) & free_ix], bins=bins, density='probability', alpha = .7, color='tab:blue')\n",
    "ax[0,0].hist(bhv['rt'].loc[k_ix & (bhv['state'] == 3) & free_ix], bins=bins, density='probability', alpha = .7, color='tab:gray')\n",
    "ax[0,0].set_xlabel('Choice RT (ms)')\n",
    "ax[0,0].spines['right'].set_visible(False)\n",
    "ax[0,0].spines['left'].set_visible(False)\n",
    "ax[0,0].spines['top'].set_visible(False)\n",
    "ax[0,0].set_yticks(())\n",
    "ax[0,0].set_xticks((100, 200, 300, 400, 500))\n",
    "\n",
    "\n",
    "# value of first saccade by state\n",
    "ax[1,0].bar(0, first_sacc_mean[0,0], color='tab:blue')\n",
    "ax[1,0].bar(1, first_sacc_mean[1,0], color='tab:gray')\n",
    "ax[1,0].errorbar(x_vals, first_sacc_mean[:, 0], first_sacc_ci[:, 0], linestyle='none', color='black', marker='s', ms = 5)\n",
    "ax[1,0].set_xticks(x_vals)\n",
    "ax[1,0].set_xticklabels(('A and B', 'C'))\n",
    "ax[1,0].spines['right'].set_visible(False)\n",
    "ax[1,0].spines['top'].set_visible(False)\n",
    "ax[1,0].spines['bottom'].set_visible(False)\n",
    "ax[1,0].set_xlabel('Task State')\n",
    "ax[1,0].set_ylabel('Value of First Sacc')\n",
    "ax[1,0].set_ylim((1, 3))\n",
    "ax[1,0].set_yticks((1, 2, 3))\n",
    "\n",
    "\n",
    "\n",
    "\n",
    "# Don\n",
    "\n",
    "# choice RT histograms\n",
    "ax[0,1].hist(bhv['rt'].loc[d_ix & (bhv['state'] <3) & free_ix], bins=bins, density='probability', alpha = .7, color='tab:blue')\n",
    "ax[0,1].hist(bhv['rt'].loc[d_ix & (bhv['state'] == 3) & free_ix], bins=bins, density='probability', alpha = .7, color='tab:gray')\n",
    "ax[0,1].set_xlabel('Choice RT (ms)')\n",
    "ax[0,1].spines['right'].set_visible(False)\n",
    "ax[0,1].spines['left'].set_visible(False)\n",
    "ax[0,1].spines['top'].set_visible(False)\n",
    "ax[0,1].set_yticks(())\n",
    "ax[0,1].set_xticks((100, 200, 300, 400, 500))\n",
    "\n",
    "# value of first saccade by state\n",
    "ax[1,1].bar(0, first_sacc_mean[0,1], color='tab:blue')\n",
    "ax[1,1].bar(1, first_sacc_mean[1,1], color='tab:gray')\n",
    "ax[1,1].errorbar(x_vals, first_sacc_mean[:, 1], first_sacc_ci[:, 1], linestyle='none', color='black', marker='s', ms = 5)\n",
    "ax[1,1].set_xticks(x_vals)\n",
    "ax[1,1].set_xticklabels(('A and B', 'C'))\n",
    "ax[1,1].spines['right'].set_visible(False)\n",
    "ax[1,1].spines['top'].set_visible(False)\n",
    "ax[1,1].spines['bottom'].set_visible(False)\n",
    "ax[1,1].set_xlabel('Task State')\n",
    "ax[1,1].set_ylabel('Value of First Sacc')\n",
    "ax[1,1].set_ylim((1, 3))\n",
    "ax[1,1].set_yticks((1, 2, 3))\n",
    "\n",
    "# save the figure as a png\n",
    "#plt.savefig(\"RTs_and_vals.svg\")\n"
   ]
  },
  {
   "cell_type": "code",
   "execution_count": 10,
   "metadata": {},
   "outputs": [
    {
     "name": "stderr",
     "output_type": "stream",
     "text": [
      "/var/folders/cg/r9y7pd9n64q8dlrv539z9yyh0000gn/T/ipykernel_25163/1242905544.py:7: DeprecationWarning: Conversion of an array with ndim > 0 to a scalar is deprecated, and will error in future. Ensure you extract a single element from your array before performing this operation. (Deprecated NumPy 1.25.)\n",
      "  rt_by_state_mean[0,0], rt_by_state_ci[0,0] = calculate_mean_and_interval(rt[free_ix & k_ix & (bhv['state']==1)], 'bootstrap')\n",
      "/var/folders/cg/r9y7pd9n64q8dlrv539z9yyh0000gn/T/ipykernel_25163/1242905544.py:8: DeprecationWarning: Conversion of an array with ndim > 0 to a scalar is deprecated, and will error in future. Ensure you extract a single element from your array before performing this operation. (Deprecated NumPy 1.25.)\n",
      "  rt_by_state_mean[1,0], rt_by_state_ci[1,0] = calculate_mean_and_interval(rt[free_ix & k_ix & (bhv['state']==2)], 'bootstrap')\n",
      "/var/folders/cg/r9y7pd9n64q8dlrv539z9yyh0000gn/T/ipykernel_25163/1242905544.py:9: DeprecationWarning: Conversion of an array with ndim > 0 to a scalar is deprecated, and will error in future. Ensure you extract a single element from your array before performing this operation. (Deprecated NumPy 1.25.)\n",
      "  rt_by_state_mean[2,0], rt_by_state_ci[2,0] = calculate_mean_and_interval(rt[free_ix & k_ix & (bhv['state']==3)], 'bootstrap')\n",
      "/var/folders/cg/r9y7pd9n64q8dlrv539z9yyh0000gn/T/ipykernel_25163/1242905544.py:11: DeprecationWarning: Conversion of an array with ndim > 0 to a scalar is deprecated, and will error in future. Ensure you extract a single element from your array before performing this operation. (Deprecated NumPy 1.25.)\n",
      "  rt_by_state_mean[0,1], rt_by_state_ci[0,1] = calculate_mean_and_interval(rt[free_ix & d_ix & (bhv['state']==1)], 'bootstrap')\n",
      "/var/folders/cg/r9y7pd9n64q8dlrv539z9yyh0000gn/T/ipykernel_25163/1242905544.py:12: DeprecationWarning: Conversion of an array with ndim > 0 to a scalar is deprecated, and will error in future. Ensure you extract a single element from your array before performing this operation. (Deprecated NumPy 1.25.)\n",
      "  rt_by_state_mean[1,1], rt_by_state_ci[1,1] = calculate_mean_and_interval(rt[free_ix & d_ix & (bhv['state']==2)], 'bootstrap')\n",
      "/var/folders/cg/r9y7pd9n64q8dlrv539z9yyh0000gn/T/ipykernel_25163/1242905544.py:13: DeprecationWarning: Conversion of an array with ndim > 0 to a scalar is deprecated, and will error in future. Ensure you extract a single element from your array before performing this operation. (Deprecated NumPy 1.25.)\n",
      "  rt_by_state_mean[2,1], rt_by_state_ci[2,1] = calculate_mean_and_interval(rt[free_ix & d_ix & (bhv['state']==3)], 'bootstrap')\n"
     ]
    }
   ],
   "source": [
    "# Get the RTs for each state\n",
    "# initialize an array to accumulate results into\n",
    "rt_by_state_mean = np.zeros((3, 2)) # 3 states x 2 monkeys\n",
    "rt_by_state_ci = np.zeros((3, 2)) # 3 states x 2 monkeys\n",
    "\n",
    "# calculate means and confidence intervals\n",
    "rt_by_state_mean[0,0], rt_by_state_ci[0,0] = calculate_mean_and_interval(rt[free_ix & k_ix & (bhv['state']==1)], 'bootstrap')\n",
    "rt_by_state_mean[1,0], rt_by_state_ci[1,0] = calculate_mean_and_interval(rt[free_ix & k_ix & (bhv['state']==2)], 'bootstrap')\n",
    "rt_by_state_mean[2,0], rt_by_state_ci[2,0] = calculate_mean_and_interval(rt[free_ix & k_ix & (bhv['state']==3)], 'bootstrap')\n",
    "\n",
    "rt_by_state_mean[0,1], rt_by_state_ci[0,1] = calculate_mean_and_interval(rt[free_ix & d_ix & (bhv['state']==1)], 'bootstrap')\n",
    "rt_by_state_mean[1,1], rt_by_state_ci[1,1] = calculate_mean_and_interval(rt[free_ix & d_ix & (bhv['state']==2)], 'bootstrap')\n",
    "rt_by_state_mean[2,1], rt_by_state_ci[2,1] = calculate_mean_and_interval(rt[free_ix & d_ix & (bhv['state']==3)], 'bootstrap')"
   ]
  },
  {
   "cell_type": "code",
   "execution_count": 11,
   "metadata": {},
   "outputs": [
    {
     "ename": "ValueError",
     "evalue": "'x' and 'y' must have the same size",
     "output_type": "error",
     "traceback": [
      "\u001b[0;31m---------------------------------------------------------------------------\u001b[0m",
      "\u001b[0;31mValueError\u001b[0m                                Traceback (most recent call last)",
      "Cell \u001b[0;32mIn[11], line 12\u001b[0m\n\u001b[1;32m     10\u001b[0m ax[\u001b[38;5;241m0\u001b[39m]\u001b[38;5;241m.\u001b[39mbar(\u001b[38;5;241m1\u001b[39m, rt_by_state_mean[\u001b[38;5;241m1\u001b[39m,\u001b[38;5;241m0\u001b[39m], color\u001b[38;5;241m=\u001b[39m\u001b[38;5;124m'\u001b[39m\u001b[38;5;124mtab:blue\u001b[39m\u001b[38;5;124m'\u001b[39m)\n\u001b[1;32m     11\u001b[0m ax[\u001b[38;5;241m0\u001b[39m]\u001b[38;5;241m.\u001b[39mbar(\u001b[38;5;241m2\u001b[39m, rt_by_state_mean[\u001b[38;5;241m2\u001b[39m,\u001b[38;5;241m0\u001b[39m], color\u001b[38;5;241m=\u001b[39m\u001b[38;5;124m'\u001b[39m\u001b[38;5;124mtab:green\u001b[39m\u001b[38;5;124m'\u001b[39m)\n\u001b[0;32m---> 12\u001b[0m ax[\u001b[38;5;241m0\u001b[39m]\u001b[38;5;241m.\u001b[39merrorbar(x_vals, rt_by_state_mean[:, \u001b[38;5;241m0\u001b[39m], rt_by_state_ci[:, \u001b[38;5;241m0\u001b[39m], linestyle\u001b[38;5;241m=\u001b[39m\u001b[38;5;124m'\u001b[39m\u001b[38;5;124mnone\u001b[39m\u001b[38;5;124m'\u001b[39m, color\u001b[38;5;241m=\u001b[39m\u001b[38;5;124m'\u001b[39m\u001b[38;5;124mblack\u001b[39m\u001b[38;5;124m'\u001b[39m, marker\u001b[38;5;241m=\u001b[39m\u001b[38;5;124m'\u001b[39m\u001b[38;5;124ms\u001b[39m\u001b[38;5;124m'\u001b[39m, ms \u001b[38;5;241m=\u001b[39m \u001b[38;5;241m5\u001b[39m)\n\u001b[1;32m     13\u001b[0m ax[\u001b[38;5;241m0\u001b[39m]\u001b[38;5;241m.\u001b[39mset_xticks(x_vals)\n\u001b[1;32m     14\u001b[0m ax[\u001b[38;5;241m0\u001b[39m]\u001b[38;5;241m.\u001b[39mset_ylim((\u001b[38;5;241m100\u001b[39m, \u001b[38;5;241m250\u001b[39m))\n",
      "File \u001b[0;32m/opt/anaconda3/lib/python3.12/site-packages/matplotlib/__init__.py:1465\u001b[0m, in \u001b[0;36m_preprocess_data.<locals>.inner\u001b[0;34m(ax, data, *args, **kwargs)\u001b[0m\n\u001b[1;32m   1462\u001b[0m \u001b[38;5;129m@functools\u001b[39m\u001b[38;5;241m.\u001b[39mwraps(func)\n\u001b[1;32m   1463\u001b[0m \u001b[38;5;28;01mdef\u001b[39;00m \u001b[38;5;21minner\u001b[39m(ax, \u001b[38;5;241m*\u001b[39margs, data\u001b[38;5;241m=\u001b[39m\u001b[38;5;28;01mNone\u001b[39;00m, \u001b[38;5;241m*\u001b[39m\u001b[38;5;241m*\u001b[39mkwargs):\n\u001b[1;32m   1464\u001b[0m     \u001b[38;5;28;01mif\u001b[39;00m data \u001b[38;5;129;01mis\u001b[39;00m \u001b[38;5;28;01mNone\u001b[39;00m:\n\u001b[0;32m-> 1465\u001b[0m         \u001b[38;5;28;01mreturn\u001b[39;00m func(ax, \u001b[38;5;241m*\u001b[39m\u001b[38;5;28mmap\u001b[39m(sanitize_sequence, args), \u001b[38;5;241m*\u001b[39m\u001b[38;5;241m*\u001b[39mkwargs)\n\u001b[1;32m   1467\u001b[0m     bound \u001b[38;5;241m=\u001b[39m new_sig\u001b[38;5;241m.\u001b[39mbind(ax, \u001b[38;5;241m*\u001b[39margs, \u001b[38;5;241m*\u001b[39m\u001b[38;5;241m*\u001b[39mkwargs)\n\u001b[1;32m   1468\u001b[0m     auto_label \u001b[38;5;241m=\u001b[39m (bound\u001b[38;5;241m.\u001b[39marguments\u001b[38;5;241m.\u001b[39mget(label_namer)\n\u001b[1;32m   1469\u001b[0m                   \u001b[38;5;129;01mor\u001b[39;00m bound\u001b[38;5;241m.\u001b[39mkwargs\u001b[38;5;241m.\u001b[39mget(label_namer))\n",
      "File \u001b[0;32m/opt/anaconda3/lib/python3.12/site-packages/matplotlib/axes/_axes.py:3572\u001b[0m, in \u001b[0;36mAxes.errorbar\u001b[0;34m(self, x, y, yerr, xerr, fmt, ecolor, elinewidth, capsize, barsabove, lolims, uplims, xlolims, xuplims, errorevery, capthick, **kwargs)\u001b[0m\n\u001b[1;32m   3570\u001b[0m x, y \u001b[38;5;241m=\u001b[39m np\u001b[38;5;241m.\u001b[39matleast_1d(x, y)  \u001b[38;5;66;03m# Make sure all the args are iterable.\u001b[39;00m\n\u001b[1;32m   3571\u001b[0m \u001b[38;5;28;01mif\u001b[39;00m \u001b[38;5;28mlen\u001b[39m(x) \u001b[38;5;241m!=\u001b[39m \u001b[38;5;28mlen\u001b[39m(y):\n\u001b[0;32m-> 3572\u001b[0m     \u001b[38;5;28;01mraise\u001b[39;00m \u001b[38;5;167;01mValueError\u001b[39;00m(\u001b[38;5;124m\"\u001b[39m\u001b[38;5;124m'\u001b[39m\u001b[38;5;124mx\u001b[39m\u001b[38;5;124m'\u001b[39m\u001b[38;5;124m and \u001b[39m\u001b[38;5;124m'\u001b[39m\u001b[38;5;124my\u001b[39m\u001b[38;5;124m'\u001b[39m\u001b[38;5;124m must have the same size\u001b[39m\u001b[38;5;124m\"\u001b[39m)\n\u001b[1;32m   3574\u001b[0m everymask \u001b[38;5;241m=\u001b[39m \u001b[38;5;28mself\u001b[39m\u001b[38;5;241m.\u001b[39m_errorevery_to_mask(x, errorevery)\n\u001b[1;32m   3576\u001b[0m label \u001b[38;5;241m=\u001b[39m kwargs\u001b[38;5;241m.\u001b[39mpop(\u001b[38;5;124m\"\u001b[39m\u001b[38;5;124mlabel\u001b[39m\u001b[38;5;124m\"\u001b[39m, \u001b[38;5;28;01mNone\u001b[39;00m)\n",
      "\u001b[0;31mValueError\u001b[0m: 'x' and 'y' must have the same size"
     ]
    },
    {
     "data": {
      "image/png": "[encoded data removed]",
      "text/plain": [
       "<Figure size 800x400 with 2 Axes>"
      ]
     },
     "metadata": {},
     "output_type": "display_data"
    }
   ],
   "source": [
    "# plot the mean RT by state\n",
    "\n",
    "fig, ax = plt.subplots(1, 2, figsize=(8,4))\n",
    "# Adjust space between subplots\n",
    "fig.subplots_adjust(wspace=0.3, hspace=.3)  # add some white space between the plots\n",
    "\n",
    "\n",
    "# value of first saccade by state\n",
    "ax[0].bar(0, rt_by_state_mean[0,0], color='tab:red')\n",
    "ax[0].bar(1, rt_by_state_mean[1,0], color='tab:blue')\n",
    "ax[0].bar(2, rt_by_state_mean[2,0], color='tab:green')\n",
    "ax[0].errorbar(x_vals, rt_by_state_mean[:, 0], rt_by_state_ci[:, 0], linestyle='none', color='black', marker='s', ms = 5)\n",
    "ax[0].set_xticks(x_vals)\n",
    "ax[0].set_ylim((100, 250))\n",
    "ax[0].set_yticks((100, 150, 200, 250))\n",
    "ax[0].set_xticklabels(('A', 'B', 'C'))\n",
    "ax[0].spines['right'].set_visible(False)\n",
    "ax[0].spines['top'].set_visible(False)\n",
    "ax[0].spines['bottom'].set_visible(False)\n",
    "ax[0].set_xlabel('Task State')\n",
    "ax[0].set_ylabel('RT (ms)')\n",
    "ax[0].set_title('Subject K')\n",
    "\n",
    "ax[1].bar(0, rt_by_state_mean[0,1], color='tab:red')\n",
    "ax[1].bar(1, rt_by_state_mean[1,1], color='tab:blue')\n",
    "ax[1].bar(2, rt_by_state_mean[2,1], color='tab:green')\n",
    "ax[1].errorbar(x_vals, rt_by_state_mean[:, 1], rt_by_state_ci[:, 1], linestyle='none', color='black', marker='s', ms = 5)\n",
    "ax[1].set_xticks(x_vals)\n",
    "ax[1].set_ylim((100, 250))\n",
    "ax[1].set_yticks((100, 150, 200, 250))\n",
    "ax[1].set_xticklabels(('A', 'B', 'C'))\n",
    "ax[1].spines['right'].set_visible(False)\n",
    "ax[1].spines['top'].set_visible(False)\n",
    "ax[1].spines['bottom'].set_visible(False)\n",
    "ax[1].set_xlabel('Task State')\n",
    "ax[1].set_title('Subject D')\n",
    "\n"
   ]
  },
  {
   "cell_type": "code",
   "execution_count": 11,
   "metadata": {},
   "outputs": [],
   "source": [
    "# do some t-tests of RTs across the states\n",
    "\n",
    "# King\n",
    "k_AvsB_ttest = pg.ttest(bhv['rt'].loc[k_ix & (bhv['state'] == 1) & free_ix], \n",
    "                        bhv['rt'].loc[k_ix & (bhv['state'] == 2) & free_ix])\n",
    "\n",
    "k_AvsC_ttest = pg.ttest(bhv['rt'].loc[k_ix & (bhv['state'] == 1) & free_ix], \n",
    "                        bhv['rt'].loc[k_ix & (bhv['state'] == 3) & free_ix])\n",
    "\n",
    "k_BvsC_ttest = pg.ttest(bhv['rt'].loc[k_ix & (bhv['state'] == 2) & free_ix], \n",
    "                        bhv['rt'].loc[k_ix & (bhv['state'] == 3) & free_ix])\n",
    "\n",
    "# Don\n",
    "d_AvsB_ttest = pg.ttest(bhv['rt'].loc[d_ix & (bhv['state'] == 1) & free_ix], \n",
    "                        bhv['rt'].loc[d_ix & (bhv['state'] == 2) & free_ix])\n",
    "\n",
    "d_AvsC_ttest = pg.ttest(bhv['rt'].loc[d_ix & (bhv['state'] == 1) & free_ix], \n",
    "                        bhv['rt'].loc[d_ix & (bhv['state'] == 3) & free_ix])\n",
    "\n",
    "d_BvsC_ttest = pg.ttest(bhv['rt'].loc[d_ix & (bhv['state'] == 2) & free_ix], \n",
    "                        bhv['rt'].loc[d_ix & (bhv['state'] == 3) & free_ix])"
   ]
  },
  {
   "cell_type": "code",
   "execution_count": 14,
   "metadata": {},
   "outputs": [
    {
     "name": "stderr",
     "output_type": "stream",
     "text": [
      "/var/folders/cg/r9y7pd9n64q8dlrv539z9yyh0000gn/T/ipykernel_25163/3808621062.py:24: DeprecationWarning: Conversion of an array with ndim > 0 to a scalar is deprecated, and will error in future. Ensure you extract a single element from your array before performing this operation. (Deprecated NumPy 1.25.)\n",
      "  rt_by_val_and_state[l_ix, r_ix, 0, 0] = np.nanmean(rt[val_combi_ix & free_ix & k_ix & state_AB_ix], axis=0)\n",
      "/var/folders/cg/r9y7pd9n64q8dlrv539z9yyh0000gn/T/ipykernel_25163/3808621062.py:25: DeprecationWarning: Conversion of an array with ndim > 0 to a scalar is deprecated, and will error in future. Ensure you extract a single element from your array before performing this operation. (Deprecated NumPy 1.25.)\n",
      "  rt_by_val_and_state[l_ix, r_ix, 1, 0] = np.nanmean(rt[val_combi_ix & free_ix & k_ix & state_C_ix], axis=0)\n",
      "/var/folders/cg/r9y7pd9n64q8dlrv539z9yyh0000gn/T/ipykernel_25163/3808621062.py:27: DeprecationWarning: Conversion of an array with ndim > 0 to a scalar is deprecated, and will error in future. Ensure you extract a single element from your array before performing this operation. (Deprecated NumPy 1.25.)\n",
      "  rt_by_val_and_state[l_ix, r_ix, 0, 1] = np.nanmean(rt[val_combi_ix & free_ix & d_ix & state_AB_ix], axis=0)\n",
      "/var/folders/cg/r9y7pd9n64q8dlrv539z9yyh0000gn/T/ipykernel_25163/3808621062.py:28: DeprecationWarning: Conversion of an array with ndim > 0 to a scalar is deprecated, and will error in future. Ensure you extract a single element from your array before performing this operation. (Deprecated NumPy 1.25.)\n",
      "  rt_by_val_and_state[l_ix, r_ix, 1, 1] = np.nanmean(rt[val_combi_ix & free_ix & d_ix & state_C_ix], axis=0)\n",
      "/var/folders/cg/r9y7pd9n64q8dlrv539z9yyh0000gn/T/ipykernel_25163/3808621062.py:30: DeprecationWarning: Conversion of an array with ndim > 0 to a scalar is deprecated, and will error in future. Ensure you extract a single element from your array before performing this operation. (Deprecated NumPy 1.25.)\n",
      "  n_sacc_by_val_and_state[l_ix, r_ix, 0, 0] = np.nanmean(n_sacc[val_combi_ix & free_ix & k_ix & state_AB_ix], axis=0)\n",
      "/var/folders/cg/r9y7pd9n64q8dlrv539z9yyh0000gn/T/ipykernel_25163/3808621062.py:31: DeprecationWarning: Conversion of an array with ndim > 0 to a scalar is deprecated, and will error in future. Ensure you extract a single element from your array before performing this operation. (Deprecated NumPy 1.25.)\n",
      "  n_sacc_by_val_and_state[l_ix, r_ix, 1, 0] = np.nanmean(n_sacc[val_combi_ix & free_ix & k_ix & state_C_ix], axis=0)\n",
      "/var/folders/cg/r9y7pd9n64q8dlrv539z9yyh0000gn/T/ipykernel_25163/3808621062.py:33: DeprecationWarning: Conversion of an array with ndim > 0 to a scalar is deprecated, and will error in future. Ensure you extract a single element from your array before performing this operation. (Deprecated NumPy 1.25.)\n",
      "  n_sacc_by_val_and_state[l_ix, r_ix, 0, 1] = np.nanmean(n_sacc[val_combi_ix & free_ix & d_ix & state_AB_ix], axis=0)\n",
      "/var/folders/cg/r9y7pd9n64q8dlrv539z9yyh0000gn/T/ipykernel_25163/3808621062.py:34: DeprecationWarning: Conversion of an array with ndim > 0 to a scalar is deprecated, and will error in future. Ensure you extract a single element from your array before performing this operation. (Deprecated NumPy 1.25.)\n",
      "  n_sacc_by_val_and_state[l_ix, r_ix, 1, 1] = np.nanmean(n_sacc[val_combi_ix & free_ix & d_ix & state_C_ix], axis=0)\n"
     ]
    }
   ],
   "source": [
    "# find the number of saccades as a function of each left/right choice\n",
    "\n",
    "val_ids = np.unique(bhv['l_val'].loc[~np.isnan(bhv['l_val'])])\n",
    "n_vals = len(val_ids)\n",
    "\n",
    "state_AB_ix = bhv['state'] < 3\n",
    "state_C_ix = bhv['state'] == 3\n",
    "\n",
    "\n",
    "\n",
    "rt_by_val_and_state = np.zeros((n_vals, n_vals, 2, 2)) # each left-right value combination, 2 states, 2 monkeys\n",
    "rt_by_val_and_state[:] = np.nan\n",
    "\n",
    "n_sacc_by_val_and_state = np.zeros((n_vals, n_vals, 2, 2)) # each left-right value combination, 2 states, 2 monkeys\n",
    "n_sacc_by_val_and_state[:] = np.nan\n",
    "\n",
    "# loop over each combination of left and right values\n",
    "for l_ix, l_val in enumerate(val_ids):\n",
    "    for r_ix, r_val in enumerate(val_ids):\n",
    "\n",
    "        val_combi_ix = (bhv['l_val'] == l_val) & (bhv['r_val'] == r_val)\n",
    "\n",
    "        if r_val != l_val:\n",
    "            rt_by_val_and_state[l_ix, r_ix, 0, 0] = np.nanmean(rt[val_combi_ix & free_ix & k_ix & state_AB_ix], axis=0)\n",
    "            rt_by_val_and_state[l_ix, r_ix, 1, 0] = np.nanmean(rt[val_combi_ix & free_ix & k_ix & state_C_ix], axis=0)\n",
    "\n",
    "            rt_by_val_and_state[l_ix, r_ix, 0, 1] = np.nanmean(rt[val_combi_ix & free_ix & d_ix & state_AB_ix], axis=0)\n",
    "            rt_by_val_and_state[l_ix, r_ix, 1, 1] = np.nanmean(rt[val_combi_ix & free_ix & d_ix & state_C_ix], axis=0)\n",
    "\n",
    "            n_sacc_by_val_and_state[l_ix, r_ix, 0, 0] = np.nanmean(n_sacc[val_combi_ix & free_ix & k_ix & state_AB_ix], axis=0)\n",
    "            n_sacc_by_val_and_state[l_ix, r_ix, 1, 0] = np.nanmean(n_sacc[val_combi_ix & free_ix & k_ix & state_C_ix], axis=0)\n",
    "\n",
    "            n_sacc_by_val_and_state[l_ix, r_ix, 0, 1] = np.nanmean(n_sacc[val_combi_ix & free_ix & d_ix & state_AB_ix], axis=0)\n",
    "            n_sacc_by_val_and_state[l_ix, r_ix, 1, 1] = np.nanmean(n_sacc[val_combi_ix & free_ix & d_ix & state_C_ix], axis=0)\n"
   ]
  },
  {
   "cell_type": "code",
   "execution_count": 29,
   "metadata": {},
   "outputs": [
    {
     "data": {
      "image/png": "[encoded data removed]",
      "text/plain": [
       "<Figure size 1200x350 with 5 Axes>"
      ]
     },
     "metadata": {},
     "output_type": "display_data"
    },
    {
     "data": {
      "text/plain": [
       "<Figure size 640x480 with 0 Axes>"
      ]
     },
     "metadata": {},
     "output_type": "display_data"
    }
   ],
   "source": [
    "# show mean RTs and mean n_sacc for all trial conditions separately\n",
    "fig, ax = plt.subplots(1, 4, figsize=(12, 3.5))\n",
    "fig.subplots_adjust(wspace=0.4, hspace=.4)  # add some white space between the plots\n",
    "rt_min = 120\n",
    "rt_max = 250\n",
    "\n",
    "# organized as:\n",
    "# subject as column pairs (leftmost is subj K's RTs, then K's n_sacc, then D's RTs, then D's n_sacc)\n",
    "im0 = ax[0].imshow(rt_by_val_and_state[:,:,0, 0], aspect='auto', vmin=rt_min, vmax=rt_max)\n",
    "im1 = ax[1].imshow(rt_by_val_and_state[:,:,1, 0], aspect='auto', vmin=rt_min, vmax=rt_max)\n",
    "im2 = ax[2].imshow(rt_by_val_and_state[:,:,0, 1], aspect='auto', vmin=rt_min, vmax=rt_max)\n",
    "im3 = ax[3].imshow(rt_by_val_and_state[:,:,1, 1], aspect='auto', vmin=rt_min, vmax=rt_max)\n",
    "\n",
    "# Add a single colorbar shared for all RT plots\n",
    "fig.colorbar(im0, ax=ax, orientation='horizontal', label='RT (ms)')\n",
    "\n",
    "plt.show()\n",
    "#plt.savefig(\"RTs_by_cond.svg\")\n",
    "\n",
    "\n"
   ]
  }
 ],
 "metadata": {
  "kernelspec": {
   "display_name": "Python 3",
   "language": "python",
   "name": "python3"
  },
  "language_info": {
   "codemirror_mode": {
    "name": "ipython",
    "version": 3
   },
   "file_extension": ".py",
   "mimetype": "text/x-python",
   "name": "python",
   "nbconvert_exporter": "python",
   "pygments_lexer": "ipython3",
   "version": "3.12.4"
  }
 },
 "nbformat": 4,
 "nbformat_minor": 2
}
