{
 "cells": [
  {
   "cell_type": "code",
   "execution_count": 2,
   "metadata": {},
   "outputs": [],
   "source": [
    "import h5_utilities as h5u\n",
    "import numpy as np\n",
    "import pandas as pd"
   ]
  },
  {
   "cell_type": "code",
   "execution_count": 3,
   "metadata": {},
   "outputs": [],
   "source": [
    "datadir = 'C:/Users/Thomas Elston/Documents/PYTHON/self_control/data/'\n",
    "data_files = h5u.find_h5_files(datadir)\n",
    "\n"
   ]
  },
  {
   "cell_type": "code",
   "execution_count": 4,
   "metadata": {},
   "outputs": [],
   "source": [
    "file2use = 1\n",
    "\n",
    "file_path = data_files[file2use]\n",
    "\n",
    "# access the data for this session\n",
    "firing_rates = np.concatenate([h5u.pull_from_h5(file_path, 'CdN_zFR'), \n",
    "                               h5u.pull_from_h5(file_path, 'OFC_zFR')], axis=2)\n",
    "\n",
    "u_names = np.concatenate([h5u.pull_from_h5(file_path, 'CdN_u_names'), \n",
    "                          h5u.pull_from_h5(file_path, 'OFC_u_names')], axis=0)\n",
    "\n",
    "u_locs = np.concatenate([h5u.pull_from_h5(file_path, 'CdN_channels'), \n",
    "                        h5u.pull_from_h5(file_path,  'OFC_channels')], axis=0)\n",
    "\n",
    "n_OFC = h5u.pull_from_h5(file_path, 'OFC_zFR').shape[2]\n",
    "n_CdN = h5u.pull_from_h5(file_path, 'CdN_zFR').shape[2]\n",
    "brain_areas = np.concatenate([np.zeros(shape=n_CdN, ), np.ones(shape=n_OFC, )]).astype(int)\n",
    "\n",
    "ts = h5u.pull_from_h5(file_path, 'ts')\n",
    "bhv = pd.read_hdf(file_path, key='bhv')\n",
    "\n",
    "if len(bhv) > len(firing_rates):\n",
    "    bhv = bhv.loc[0 :len(firing_rates)-1]"
   ]
  },
  {
   "cell_type": "code",
   "execution_count": 13,
   "metadata": {},
   "outputs": [
    {
     "name": "stdout",
     "output_type": "stream",
     "text": [
      "Datasets in 'C:/Users/Thomas Elston/Documents/PYTHON/self_control/data\\D20231219_Rec05.h5':\n",
      "CdN_FR\n",
      "CdN_channels\n",
      "CdN_locations\n",
      "CdN_mean_wf\n",
      "CdN_u_names\n",
      "CdN_zFR\n",
      "OFC_FR\n",
      "OFC_channels\n",
      "OFC_locations\n",
      "OFC_mean_wf\n",
      "OFC_u_names\n",
      "OFC_zFR\n",
      "bhv\n",
      "ts\n"
     ]
    }
   ],
   "source": [
    "h5u.list_hdf5_data(file_path)"
   ]
  }
 ],
 "metadata": {
  "kernelspec": {
   "display_name": "base",
   "language": "python",
   "name": "python3"
  },
  "language_info": {
   "codemirror_mode": {
    "name": "ipython",
    "version": 3
   },
   "file_extension": ".py",
   "mimetype": "text/x-python",
   "name": "python",
   "nbconvert_exporter": "python",
   "pygments_lexer": "ipython3",
   "version": "3.11.5"
  }
 },
 "nbformat": 4,
 "nbformat_minor": 2
}
